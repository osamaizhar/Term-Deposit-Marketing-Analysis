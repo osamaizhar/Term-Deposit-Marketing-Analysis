{
 "cells": [
  {
   "cell_type": "markdown",
   "metadata": {},
   "source": [
    "# Term Deposit Marketing Prediction Models\n",
    "\n",
    "This notebook builds two predictive models for term deposit marketing:\n",
    "1. **Pre-Call Model**: Predicts which customers to call before making any calls (excludes campaign-related features)\n",
    "2. **Post-Call Model**: Predicts which customers to focus on after initial contact (includes all features)\n",
    "\n",
    "We'll compare multiple models and select the top 3 for each scenario."
   ]
  },
  {
   "cell_type": "markdown",
   "metadata": {},
   "source": [
    "## 1. Setup and Data Preparation"
   ]
  },
  {
   "cell_type": "code",
   "execution_count": null,
   "metadata": {},
   "outputs": [],
   "source": [
    "# Import necessary libraries\n",
    "import pandas as pd\n",
    "import numpy as np\n",
    "import matplotlib.pyplot as plt\n",
    "import seaborn as sns\n",
    "from sklearn.metrics import classification_report, confusion_matrix, accuracy_score, precision_score, recall_score, f1_score, roc_auc_score, roc_curve, precision_recall_curve, auc\n",
    "from sklearn.model_selection import train_test_split, cross_val_score, GridSearchCV\n",
    "from sklearn.preprocessing import StandardScaler, OneHotEncoder\n",
    "from sklearn.compose import ColumnTransformer\n",
    "from sklearn.pipeline import Pipeline\n",
    "from sklearn.impute import SimpleImputer\n",
    "\n",
    "# Import models\n",
    "from sklearn.linear_model import LogisticRegression\n",
    "from sklearn.ensemble import RandomForestClassifier, GradientBoostingClassifier, AdaBoostClassifier\n",
    "from sklearn.tree import DecisionTreeClassifier\n",
    "from sklearn.svm import SVC\n",
    "from sklearn.neighbors import KNeighborsClassifier\n",
    "from xgboost import XGBClassifier\n",
    "from lightgbm import LGBMClassifier\n",
    "\n",
    "# Set display options\n",
    "pd.set_option('display.max_columns', None)\n",
    "sns.set_style('whitegrid')"
   ]
  },
  {
   "cell_type": "code",
   "execution_count": null,
   "metadata": {},
   "outputs": [],
   "source": [
    "# Load the dataset\n",
    "file_path = \"term-deposit-marketing-2020.csv\"\n",
    "df = pd.read_csv(file_path)\n",
    "print(f\"Data loaded: {df.shape[0]} rows, {df.shape[1]} columns\")\n",
    "print(\"Columns:\", df.columns.tolist())\n",
    "df.head()"
   ]
  },
  {
   "cell_type": "code",
   "execution_count": null,
   "metadata": {},
   "outputs": [],
   "source": [
    "# Check for missing values and duplicates\n",
    "missing = df.isnull().sum()\n",
    "duplicates = df.duplicated().sum()\n",
    "print(f\"Missing values per column:\\n{missing}\\n\")\n",
    "print(f\"Number of duplicated rows: {duplicates}\\n\")"
   ]
  },
  {
   "cell_type": "code",
   "execution_count": null,
   "metadata": {},
   "outputs": [],
   "source": [
    "# Check class distribution\n",
    "df[\"y\"].value_counts(normalize=True).mul(100).round(2)"
   ]
  },
  {
   "cell_type": "markdown",
   "metadata": {},
   "source": [
    "### Identify Campaign-Related Features\n",
    "\n",
    "For our first model, we need to exclude campaign-related features that would not be available before making calls."
   ]
  },
  {
   "cell_type": "code",
   "execution_count": null,
   "metadata": {},
   "outputs": [],
   "source": [
    "# Define campaign-related features that will be excluded from Model 1\n",
    "campaign_features = ['duration', 'day', 'month', 'campaign']\n",
    "\n",
    "# Define features for Model 1 (pre-call)\n",
    "model1_features = [col for col in df.columns if col not in campaign_features and col != 'y']\n",
    "print(\"Features for Model 1 (pre-call):\\n\", model1_features)\n",
    "\n",
    "# Define features for Model 2 (post-call)\n",
    "model2_features = [col for col in df.columns if col != 'y']\n",
    "print(\"\\nFeatures for Model 2 (post-call):\\n\", model2_features)"
   ]
  },
  {
   "cell_type": "markdown",
   "metadata": {},
   "source": [
    "## 2. Model 1: Pre-Call Prediction\n",
    "\n",
    "This model will help predict which customers to call before making any calls, using only features available before the campaign."
   ]
  },
  {
   "cell_type": "code",
   "execution_count": null,
   "metadata": {},
   "outputs": [],
   "source": [
    "# Create dataset for Model 1\n",
    "model1_data = df[model1_features + ['y']].copy()\n",
    "model1_data.head()"
   ]
  },
  {
   "cell_type": "code",
   "execution_count": null,
   "metadata": {},
   "outputs": [],
   "source": [
    "# Prepare data for Model 1\n",
    "# Convert target to binary\n",
    "model1_data['y_binary'] = model1_data['y'].map({'yes': 1, 'no': 0})\n",
    "\n",
    "# Split features and target\n",
    "X1 = model1_data.drop(['y', 'y_binary'], axis=1)\n",
    "y1 = model1_data['y_binary']\n",
    "\n",
    "# Identify categorical and numerical features\n",
    "categorical_features = X1.select_dtypes(include=['object']).columns.tolist()\n",
    "numerical_features = X1.select_dtypes(include=['int64', 'float64']).columns.tolist()\n",
    "\n",
    "print(f\"Categorical features: {categorical_features}\")\n",
    "print(f\"Numerical features: {numerical_features}\")\n",
    "\n",
    "# Create preprocessing pipeline\n",
    "categorical_transformer = Pipeline(steps=[\n",
    "    ('imputer', SimpleImputer(strategy='constant', fill_value='missing')),\n",
    "    ('onehot', OneHotEncoder(handle_unknown='ignore'))\n",
    "])\n",
    "\n",
    "numerical_transformer = Pipeline(steps=[\n",
    "    ('imputer', SimpleImputer(strategy='median')),\n",
    "    ('scaler', StandardScaler())\n",
    "])\n",
    "\n",
    "preprocessor = ColumnTransformer(\n",
    "    transformers=[\n",
    "        ('num', numerical_transformer, numerical_features),\n",
    "        ('cat', categorical_transformer, categorical_features)\n",
    "    ])\n",
    "\n",
    "# Split data into train and test sets\n",
    "X1_train, X1_test, y1_train, y1_test = train_test_split(X1, y1, test_size=0.2, random_state=42, stratify=y1)"
   ]
  },
  {
   "cell_type": "code",
   "execution_count": null,
   "metadata": {},
   "outputs": [],
   "source": [
    "# Define models to evaluate for Model 1\n",
    "models1 = {\n",
    "    'Logistic Regression': LogisticRegression(max_iter=1000, random_state=42),\n",
    "    'Random Forest': RandomForestClassifier(random_state=42),\n",
    "    'Gradient Boosting': GradientBoostingClassifier(random_state=42),\n",
    "    'XGBoost': XGBClassifier(random_state=42),\n",
    "    'LightGBM': LGBMClassifier(random_state=42),\n",
    "    'Decision Tree': DecisionTreeClassifier(random_state=42),\n",
    "    'AdaBoost': AdaBoostClassifier(random_state=42),\n",
    "    'SVM': SVC(probability=True, random_state=42),\n",
    "    'KNN': KNeighborsClassifier()\n",
    "}"
   ]
  },
  {
   "cell_type": "markdown",
   "metadata": {},
   "source": [
    "### Evaluate Models for Pre-Call Prediction"
   ]
  },
  {
   "cell_type": "code",
   "execution_count": null,
   "metadata": {},
   "outputs": [],
   "source": [
    "# Function to evaluate models with classification report and confusion matrix\n",
    "def evaluate_model(model_name, model, X_train, X_test, y_train, y_test, preprocessor):\n",
    "    # Create pipeline with preprocessing and model\n",
    "    pipeline = Pipeline(steps=[('preprocessor', preprocessor), ('classifier', model)])\n",
    "    \n",
    "    # Train the model\n",
    "    pipeline.fit(X_train, y_train)\n",
    "    \n",
    "    # Make predictions\n",
    "    y_pred = pipeline.predict(X_test)\n",
    "    y_pred_proba = pipeline.predict_proba(X_test)[:, 1]\n",
    "    \n",
    "    # Classification report\n",
    "    print(f\"\\n{model_name} - Classification Report:\")\n",
    "    report = classification_report(y_test, y_pred)\n",
    "    print(report)\n",
    "    \n",
    "    # Confusion Matrix\n",
    "    plt.figure(figsize=(8, 6))\n",
    "    cm = confusion_matrix(y_test, y_pred)\n",
    "    sns.heatmap(cm, annot=True, fmt='d', cmap='Blues', \n",
    "                xticklabels=['No', 'Yes'], yticklabels=['No', 'Yes'])\n",
    "    plt.xlabel('Predicted')\n",
    "    plt.ylabel('Actual')\n",
    "    plt.title(f'Confusion Matrix - {model_name}')\n",
    "    plt.show()\n",
    "    \n",
    "    # Calculate metrics\n",
    "    tn, fp, fn, tp = cm.ravel()\n",
    "    accuracy = (tp + tn) / (tp + tn + fp + fn)\n",
    "    precision = tp / (tp + fp) if (tp + fp) > 0 else 0\n",
    "    recall = tp / (tp + fn) if (tp + fn) > 0 else 0\n",
    "    f1 = 2 * (precision * recall) / (precision + recall) if (precision + recall) > 0 else 0\n",
    "    roc_auc = roc_auc_score(y_test, y_pred_proba)\n",
    "    \n",
    "    # Plot ROC curve\n",
    "    plt.figure(figsize=(8, 6))\n",
    "    fpr, tpr, _ = roc_curve(y_test, y_pred_proba)\n",
    "    plt.plot(fpr, tpr, label=f'ROC curve (area = {roc_auc:.3f})')\n",
    "    plt.plot([0, 1], [0, 1], 'k--')\n",
    "    plt.xlabel('False Positive Rate')\n",
    "    plt.ylabel('True Positive Rate')\n",
    "    plt.title(f'ROC Curve - {model_name}')\n",
    "    plt.legend(loc='lower right')\n",
    "    plt.show()\n",
    "    \n",
    "    print(f\"\\nObservations for {model_name}:\")\n",
    "    print(f\"Accuracy: {accuracy:.4f}\")\n",
    "    print(f\"Precision: {precision:.4f}\")\n",
    "    print(f\"Recall: {recall:.4f}\")\n",
    "    print(f\"F1 Score: {f1:.4f}\")\n",
    "    print(f\"ROC AUC: {roc_auc:.4f}\")\n",
    "    print(f\"True Positives: {tp} - Correctly predicted subscribers\")\n",
    "    print(f\"False Positives: {fp} - Incorrectly predicted as subscribers\")\n",
    "    print(f\"True Negatives: {tn} - Correctly predicted non-subscribers\")\n",
    "    print(f\"False Negatives: {fn} - Missed potential subscribers\")\n",
    "    \n",
    "    # Try to get feature importance if available\n",
    "    if hasattr(model, 'feature_importances_') or hasattr(model, 'coef_'):\n",
    "        # Get feature names after preprocessing\n",
    "        feature_names = []\n",
    "        for name, transformer, features in preprocessor.transformers_:\n",
    "            if name == 'cat':\n",
    "                # Get one-hot encoded feature names\n",
    "                encoder = transformer.named_steps['onehot']\n",
    "                encoded_features = encoder.get_feature_names_out(features)\n",
    "                feature_names.extend(encoded_features)\n",
    "            else:\n",
    "                feature_names.extend(features)\n",
    "        \n",
    "        # Get feature importance\n",
    "        if hasattr(model, 'feature_importances_'):\n",
    "            importances = model.feature_importances_\n",
    "        elif hasattr(model, 'coef_'):\n",
    "            importances = np.abs(model.coef_[0])\n",
    "        else:\n",
    "            importances = None\n",
    "        \n",
    "        if importances is not None and len(importances) == len(feature_names):\n",
    "            # Plot feature importance\n",
    "            plt.figure(figsize=(10, 8))\n",
    "            indices = np.argsort(importances)[-20:]  # Top 20 features\n",
    "            plt.barh(range(len(indices)), importances[indices])\n",
    "            plt.yticks(range(len(indices)), [feature_names[i] for i in indices])\n",
    "            plt.xlabel('Feature Importance')\n",
    "            plt.title(f'Top 20 Feature Importance - {model_name}')\n",
    "            plt.tight_layout()\n",
    "            plt.show()\n",
    "    \n",
    "    return {\n",
    "        'model': model_name,\n",
    "        'accuracy': accuracy,\n",
    "        'precision': precision,\n",
    "        'recall': recall,\n",
    "        'f1': f1,\n",
    "        'roc_auc': roc_auc,\n",
    "        'tp': tp,\n",
    "        'fp': fp,\n",
    "        'tn': tn,\n",
    "        'fn': fn,\n",
    "        'pipeline': pipeline\n",
    "    }"
   ]
  },
  {
   "cell_type": "code",
   "execution_count": null,
   "metadata": {},
   "outputs": [],
   "source": [
    "# Evaluate each model for Model 1\n",
    "model1_results = []\n",
    "\n",
    "for name, model in models1.items():\n",
    "    print(f\"\\n\\nEvaluating {name} for Model 1 (Pre-Call)...\")\n",
    "    try:\n",
    "        result = evaluate_model(name, model, X1_train, X1_test, y1_train, y1_test, preprocessor)\n",
    "        model1_results.append(result)\n",
    "    except Exception as e:\n",
    "        print(f\"Error evaluating {name}: {str(e)}\")"
   ]
  },
  {
   "cell_type": "code",
   "execution_count": null,
   "metadata": {},
   "outputs": [],
   "source": [
    "# Create a summary DataFrame for Model 1 results\n",
    "model1_summary = pd.DataFrame(model1_results)\n",
    "model1_summary = model1_summary.drop('pipeline', axis=1)  # Drop pipeline object for display\n",
    "model1_summary = model1_summary.sort_values('f1', ascending=False)  # Sort by F1 score\n",
    "model1_summary"
   ]
  },
  {
   "cell_type": "code",
   "execution_count": null,
   "metadata": {},
   "outputs": [],
   "source": [
    "# Visualize model performance for Model 1\n",
    "plt.figure(figsize=(12, 6))\n",
    "metrics = ['accuracy', 'precision', 'recall', 'f1', 'roc_auc']\n",
    "model1_summary_plot = model1_summary.sort_values('f1', ascending=False).head(5)  # Top 5 models\n",
    "\n",
    "for metric in metrics:\n",
    "    plt.figure(figsize=(10, 6))\n",
    "    sns.barplot(x='model', y=metric, data=model1_summary_plot)\n",
    "    plt.title(f'{metric.upper()} Comparison - Model 1 (Pre-Call)')\n",
    "    plt.xticks(rotation=45, ha='right')\n",
    "    plt.tight_layout()\n",
    "    plt.show()"
   ]
  },
  {
   "cell_type": "markdown",
   "metadata": {},
   "source": [
    "## 3. Model 2: Post-Call Prediction\n",
    "\n",
    "This model will help predict which customers to focus on after initial contact, using all available features including campaign-related ones."
   ]
  },
  {
   "cell_type": "code",
   "execution_count": null,
   "metadata": {},
   "outputs": [],
   "source": [
    "# Create dataset for Model 2\n",
    "model2_data = df[model2_features + ['y']].copy()\n",
    "model2_data.head()"
   ]
  },
  {
   "cell_type": "code",
   "execution_count": null,
   "metadata": {},
   "outputs": [],
   "source": [
    "# Prepare data for Model 2\n",
    "# Convert target to binary\n",
    "model2_data['y_binary'] = model2_data['y'].map({'yes': 1, 'no': 0})\n",
    "\n",
    "# Split features and target\n",
    "X2 = model2_data.drop(['y', 'y_binary'], axis=1)\n",
    "y2 = model2_data['y_binary']\n",
    "\n",
    "# Identify categorical and numerical features\n",
    "categorical_features2 = X2.select_dtypes(include=['object']).columns.tolist()\n",
    "numerical_features2 = X2.select_dtypes(include=['int64', 'float64']).columns.tolist()\n",
    "\n",
    "print(f\"Categorical features: {categorical_features2}\")\n",
    "print(f\"Numerical features: {numerical_features2}\")\n",
    "\n",
    "# Create preprocessing pipeline\n",
    "categorical_transformer2 = Pipeline(steps=[\n",
    "    ('imputer', SimpleImputer(strategy='constant', fill_value='missing')),\n",
    "    ('onehot', OneHotEncoder(handle_unknown='ignore'))\n",
    "])\n",
    "\n",
    "numerical_transformer2 = Pipeline(steps=[\n",
    "    ('imputer', SimpleImputer(strategy='median')),\n",
    "    ('scaler', StandardScaler())\n",
    "])\n",
    "\n",
    "preprocessor2 = ColumnTransformer(\n",
    "    transformers=[\n",
    "        ('num', numerical_transformer2, numerical_features2),\n",
    "        ('cat', categorical_transformer2, categorical_features2)\n",
    "    ])\n",
    "\n",
    "# Split data into train and test sets\n",
    "X2_train, X2_test, y2_train, y2_test = train_test_split(X2, y2, test_size=0.2, random_state=42, stratify=y2)"
   ]
  },
  {
   "cell_type": "code",
   "execution_count": null,
   "metadata": {},
   "outputs": [],
   "source": [
    "# Define models to evaluate for Model 2\n",
    "models2 = {\n",
    "    'Logistic Regression': LogisticRegression(max_iter=1000, random_state=42),\n",
    "    'Random Forest': RandomForestClassifier(random_state=42),\n",
    "    'Gradient Boosting': GradientBoostingClassifier(random_state=42),\n",
    "    'XGBoost': XGBClassifier(random_state=42),\n",
    "    'LightGBM': LGBMClassifier(random_state=42),\n",
    "    'Decision Tree': DecisionTreeClassifier(random_state=42),\n",
    "    'AdaBoost': AdaBoostClassifier(random_state=42),\n",
    "    'SVM': SVC(probability=True, random_state=42),\n",
    "    'KNN': KNeighborsClassifier()\n",
    "}"
   ]
  },
  {
   "cell_type": "markdown",
   "metadata": {},
   "source": [
    "### Evaluate Models for Post-Call Prediction"
   ]
  },
  {
   "cell_type": "code",
   "execution_count": null,
   "metadata": {},
   "outputs": [],
   "source": [
    "# Evaluate each model for Model 2\n",
    "model2_results = []\n",
    "\n",
    "for name, model in models2.items():\n",
    "    print(f\"\\n\\nEvaluating {name} for Model 2 (Post-Call)...\")\n",
    "    try:\n",
    "        result = evaluate_model(name, model, X2_train, X2_test, y2_train, y2_test, preprocessor2)\n",
    "        model2_results.append(result)\n",
    "    except Exception as e:\n",
    "        print(f\"Error evaluating {name}: {str(e)}\")"
   ]
  },
  {
   "cell_type": "code",
   "execution_count": null,
   "metadata": {},
   "outputs": [],
   "source": [
    "# Create a summary DataFrame for Model 2 results\n",
    "model2_summary = pd.DataFrame(model2_results)\n",
    "model2_summary = model2_summary.drop('pipeline', axis=1)  # Drop pipeline object for display\n",
    "model2_summary = model2_summary.sort_values('f1', ascending=False)  # Sort by F1 score\n",
    "model2_summary"
   ]
  },
  {
   "cell_type": "code",
   "execution_count": null,
   "metadata": {},
   "outputs": [],
   "source": [
    "# Visualize model performance for Model 2\n",
    "plt.figure(figsize=(12, 6))\n",
    "metrics = ['accuracy', 'precision', 'recall', 'f1', 'roc_auc']\n",
    "model2_summary_plot = model2_summary.sort_values('f1', ascending=False).head(5)  # Top 5 models\n",
    "\n",
    "for metric in metrics:\n",
    "    plt.figure(figsize=(10, 6))\n",
    "    sns.barplot(x='model', y=metric, data=model2_summary_plot)\n",
    "    plt.title(f'{metric.upper()} Comparison - Model 2 (Post-Call)')\n",
    "    plt.xticks(rotation=45, ha='right')\n",
    "    plt.tight_layout()\n",
    "    plt.show()"
   ]
  },
  {
   "cell_type": "markdown",
   "metadata": {},
   "source": [
    "## 4. Compare Model 1 and Model 2 Performance"
   ]
  },
  {
   "cell_type": "code",
   "execution_count": null,
   "metadata": {},
   "outputs": [],
   "source": [
    "# Get the top 3 models for each scenario\n",
    "model1_top3 = model1_summary.head(3).reset_index(drop=True)\n",
    "model2_top3 = model2_summary.head(3).reset_index(drop=True)\n",
    "\n",
    "# Add model type identifier\n",
    "model1_top3['model_type'] = 'Pre-Call (Model 1)'\n",
    "model2_top3['model_type'] = 'Post-Call (Model 2)'\n",
    "\n",
    "# Combine results from both models\n",
    "top_models = pd.concat([model1_top3, model2_top3])\n",
    "top_models"
   ]
  },
  {
   "cell_type": "code",
   "execution_count": null,
   "metadata": {},
   "outputs": [],
   "source": [
    "# Visualize performance comparison of top models\n",
    "plt.figure(figsize=(14, 10))\n",
    "metrics = ['accuracy', 'precision', 'recall', 'f1', 'roc_auc']\n",
    "\n",
    "for i, metric in enumerate(metrics):\n",
    "    plt.figure(figsize=(12, 6))\n",
    "    sns.barplot(x='model', y=metric, hue='model_type', data=top_models)\n",
    "    plt.title(f'{metric.upper()} Comparison - Top Models')\n",
    "    plt.xticks(rotation=45, ha='right')\n",
    "    plt.legend(title='Model Type')\n",
    "    plt.tight_layout()\n",
    "    plt.show()"
   ]
  },
  {
   "cell_type": "markdown",
   "metadata": {},
   "source": [
    "## 5. Final Model Selection and Observations\n",
    "\n",
    "### Model 1 (Pre-Call) - Best Model Analysis\n",
    "\n",
    "The best model for pre-call prediction is used to determine which customers to contact before making any calls. This model excludes campaign-related features like duration, day, month, and campaign."
   ]
  },
  {
   "cell_type": "code",
   "execution_count": null,
   "metadata": {},
   "outputs": [],
   "source": [
    "# Get the best model for Model 1\n",
    "best_model1_name = model1_summary.iloc[0]['model']\n",
    "best_model1_pipeline = next(result['pipeline'] for result in model1_results if result['model'] == best_model1_name)\n",
    "print(f\"Best Pre-Call Model: {best_model1_name}\")\n",
    "print(f\"Accuracy: {model1_summary.iloc[0]['accuracy']:.4f}\")\n",
    "print(f\"F1 Score: {model1_summary.iloc[0]['f1']:.4f}\")\n",
    "print(f\"ROC AUC: {model1_summary.iloc[0]['roc_auc']:.4f}\")\n",
    "\n",
    "# Get feature importance if available\n",
    "model = best_model1_pipeline.named_steps['classifier']\n",
    "if hasattr(model, 'feature_importances_') or hasattr(model, 'coef_'):\n",
    "    print(\"\\nTop features for this model:\")\n",
    "    # This would need to be implemented based on the specific model type\n",
    "    # We already show feature importance in the evaluation function"
   ]
  },
  {
   "cell_type": "markdown",
   "metadata": {},
   "source": [
    "### Model 2 (Post-Call) - Best Model Analysis\n",
    "\n",
    "The best model for post-call prediction is used to determine which customers to focus on after initial contact. This model includes all features, including campaign-related ones."
   ]
  },
  {
   "cell_type": "code",
   "execution_count": null,
   "metadata": {},
   "outputs": [],
   "source": [
    "# Get the best model for Model 2\n",
    "best_model2_name = model2_summary.iloc[0]['model']\n",
    "best_model2_pipeline = next(result['pipeline'] for result in model2_results if result['model'] == best_model2_name)\n",
    "print(f\"Best Post-Call Model: {best_model2_name}\")\n",
    "print(f\"Accuracy: {model2_summary.iloc[0]['accuracy']:.4f}\")\n",
    "print(f\"F1 Score: {model2_summary.iloc[0]['f1']:.4f}\")\n",
    "print(f\"ROC AUC: {model2_summary.iloc[0]['roc_auc']:.4f}\")\n",
    "\n",
    "# Get feature importance if available\n",
    "model = best_model2_pipeline.named_steps['classifier']\n",
    "if hasattr(model, 'feature_importances_') or hasattr(model, 'coef_'):\n",
    "    print(\"\\nTop features for this model:\")\n",
    "    # This would need to be implemented based on the specific model type\n",
    "    # We already show feature importance in the evaluation function"
   ]
  },
  {
   "cell_type": "markdown",
   "metadata": {},
   "source": [
    "## 6. Compare Performance Improvement\n",
    "\n",
    "Let's analyze how much the inclusion of campaign-related features improves prediction performance."
   ]
  },
  {
   "cell_type": "code",
   "execution_count": null,
   "metadata": {},
   "outputs": [],
   "source": [
    "# Compare the best models from each scenario\n",
    "best_model1_metrics = model1_summary.iloc[0]\n",
    "best_model2_metrics = model2_summary.iloc[0]\n",
    "\n",
    "# Calculate improvement percentages\n",
    "metrics_to_compare = ['accuracy', 'precision', 'recall', 'f1', 'roc_auc']\n",
    "improvements = {}\n",
    "\n",
    "for metric in metrics_to_compare:\n",
    "    model1_value = best_model1_metrics[metric]\n",
    "    model2_value = best_model2_metrics[metric]\n",
    "    improvement = ((model2_value - model1_value) / model1_value) * 100\n",
    "    improvements[metric] = improvement\n",
    "\n",
    "# Create a DataFrame for visualization\n",
    "improvement_df = pd.DataFrame({\n",
    "    'Metric': metrics_to_compare,\n",
    "    'Model 1 (Pre-Call)': [best_model1_metrics[m] for m in metrics_to_compare],\n",
    "    'Model 2 (Post-Call)': [best_model2_metrics[m] for m in metrics_to_compare],\n",
    "    'Improvement (%)': [improvements[m] for m in metrics_to_compare]\n",
    "})\n",
    "\n",
    "improvement_df"
   ]
  },
  {
   "cell_type": "code",
   "execution_count": null,
   "metadata": {},
   "outputs": [],
   "source": [
    "# Visualize the improvement\n",
    "plt.figure(figsize=(10, 6))\n",
    "sns.barplot(x='Metric', y='Improvement (%)', data=improvement_df)\n",
    "plt.title('Performance Improvement: Post-Call vs. Pre-Call Model')\n",
    "plt.axhline(y=0, color='r', linestyle='--')\n",
    "plt.ylabel('Improvement (%)')\n",
    "plt.xticks(rotation=45)\n",
    "plt.tight_layout()\n",
    "plt.show()"
   ]
  },
  {
   "cell_type": "markdown",
   "metadata": {},
   "source": [
    "## 7. Final Observations and Recommendations\n",
    "\n",
    "### Pre-Call Model (Model 1)\n",
    "- This model helps identify which customers to contact before making any calls\n",
    "- Key features influencing this model are demographic and financial indicators\n",
    "- The model achieves [accuracy] which [meets/doesn't meet] the target of 75-80%\n",
    "- Recommendations for using this model: [to be filled after running]\n",
    "\n",
    "### Post-Call Model (Model 2)\n",
    "- This model helps identify which customers to focus on after initial contact\n",
    "- Including campaign-related features [improves/doesn't improve] prediction accuracy significantly\n",
    "- The most important feature is likely 'duration' which indicates customer interest\n",
    "- Recommendations for using this model: [to be filled after running]\n",
    "\n",
    "### Overall Strategy\n",
    "- Use Model 1 for initial customer targeting to optimize call center resources\n",
    "- Use Model 2 for follow-up prioritization after initial contact\n",
    "- The combination of both models creates an efficient two-stage approach to maximize term deposit subscriptions\n",
    "- [Additional insights based on model performance]"
   ]
  }
 ],
 "metadata": {
  "kernelspec": {
   "display_name": "Python 3",
   "language": "python",
   "name": "python3"
  },
  "language_info": {
   "codemirror_mode": {
    "name": "ipython",
    "version": 3
   },
   "file_extension": ".py",
   "mimetype": "text/x-python",
   "name": "python",
   "nbconvert_exporter": "python",
   "pygments_lexer": "ipython3",
   "version": "3.8.8"
  }
 },
 "nbformat": 4,
 "nbformat_minor": 4
}